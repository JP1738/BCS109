{
  "nbformat": 4,
  "nbformat_minor": 0,
  "metadata": {
    "colab": {
      "name": "HW #4.ipynb",
      "provenance": [],
      "authorship_tag": "ABX9TyM520t5e4W4uUrCGHbtVr8j",
      "include_colab_link": true
    },
    "kernelspec": {
      "name": "python3",
      "display_name": "Python 3"
    },
    "language_info": {
      "name": "python"
    }
  },
  "cells": [
    {
      "cell_type": "markdown",
      "metadata": {
        "id": "view-in-github",
        "colab_type": "text"
      },
      "source": [
        "<a href=\"https://colab.research.google.com/github/JP1738/BCS109/blob/main/HW_4.ipynb\" target=\"_parent\"><img src=\"https://colab.research.google.com/assets/colab-badge.svg\" alt=\"Open In Colab\"/></a>"
      ]
    },
    {
      "cell_type": "code",
      "execution_count": null,
      "metadata": {
        "id": "q1g1CLpYUi_n"
      },
      "outputs": [],
      "source": [
        "item_price = 99\n",
        "amount = 0\n",
        "discount = 0\n",
        "total_price = 0\n",
        "\n",
        "amount = int(input(\"How many would you look to purchase? \"))\n",
        "\n",
        "if (amount >= 10 and amount <= 19):\n",
        "  discount = .1\n",
        "elif (amount >= 20 and amount <= 49):\n",
        "  discount = .2\n",
        "elif (amount >= 50 and amount <= 99):\n",
        "  discount = .3\n",
        "elif (amount >= 100):\n",
        "  discount = .4\n",
        "\n",
        "print(f\"The discount is\",(discount))\n",
        "\n",
        "total_price = amount*item_price*(1-discount)\n",
        "print(f\"The total price is,${total_price:,.2f}\")\n"
      ]
    },
    {
      "cell_type": "code",
      "source": [
        "weight = 0\n",
        "shipping_rate = 0\n",
        "\n",
        "weight = float(input(\"How many pounds is the package? \"))\n",
        "\n",
        "if (weight <= 2):\n",
        "  shipping_rate = 1.50\n",
        "elif (weight > 2 and weight <= 6):\n",
        "  shipping_rate = 3.00\n",
        "elif (weight > 6 and weight <= 10):\n",
        "  shipping_rate = 4.00\n",
        "elif (weight > 10):\n",
        "  shipping_rate = 4.75\n",
        "\n",
        "print(f\"The shipping rate is ${shipping_rate:.2f} per pound\")"
      ],
      "metadata": {
        "id": "gGByqT48X8QQ"
      },
      "execution_count": null,
      "outputs": []
    }
  ]
}