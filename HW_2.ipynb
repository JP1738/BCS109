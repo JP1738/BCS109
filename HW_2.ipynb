{
  "nbformat": 4,
  "nbformat_minor": 0,
  "metadata": {
    "colab": {
      "name": "HW #2.ipynb",
      "provenance": [],
      "authorship_tag": "ABX9TyPVAd0NN98obDSMKVBf41EA",
      "include_colab_link": true
    },
    "kernelspec": {
      "name": "python3",
      "display_name": "Python 3"
    },
    "language_info": {
      "name": "python"
    }
  },
  "cells": [
    {
      "cell_type": "markdown",
      "metadata": {
        "id": "view-in-github",
        "colab_type": "text"
      },
      "source": [
        "<a href=\"https://colab.research.google.com/github/JP1738/BCS109/blob/main/HW_2.ipynb\" target=\"_parent\"><img src=\"https://colab.research.google.com/assets/colab-badge.svg\" alt=\"Open In Colab\"/></a>"
      ]
    },
    {
      "cell_type": "markdown",
      "source": [
        "#**About Me**#\n",
        "\n",
        "\n",
        "My name is ***Jeremiah Pinnock***. I am a sophomore. I have **no** prior experience using any coding programs but I have been involved in things like the *LEGO Robotics* so I have experience in working with codes. I've always been fascinated with coding and always watched to learn how. In high school, I used to use the inspect tool on websites. I would alter the code and rewrite things and just watch what happens. I want to possibly get involved in programming for **video games**.  "
      ],
      "metadata": {
        "id": "FCZ9RAXl_RFc"
      }
    }
  ]
}