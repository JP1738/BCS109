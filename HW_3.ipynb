{
  "nbformat": 4,
  "nbformat_minor": 0,
  "metadata": {
    "colab": {
      "name": "HW #3.ipynb",
      "provenance": [],
      "authorship_tag": "ABX9TyNF2l2pqT/hrC+dD/b0DyGd",
      "include_colab_link": true
    },
    "kernelspec": {
      "name": "python3",
      "display_name": "Python 3"
    },
    "language_info": {
      "name": "python"
    }
  },
  "cells": [
    {
      "cell_type": "markdown",
      "metadata": {
        "id": "view-in-github",
        "colab_type": "text"
      },
      "source": [
        "<a href=\"https://colab.research.google.com/github/JP1738/BCS109/blob/main/HW_3.ipynb\" target=\"_parent\"><img src=\"https://colab.research.google.com/assets/colab-badge.svg\" alt=\"Open In Colab\"/></a>"
      ]
    },
    {
      "cell_type": "markdown",
      "source": [
        "#**Present Value Calculator**\n",
        "\n",
        "This generator is suppose to calculate the **present value** needed to invest in order to achieve the intended amount. You must input the *future value*(Principal), *interest rate*, and *time*. The calculations for the ***Present Value Calculator*** are:\n",
        "\n",
        "**Present Value Calculator**\n",
        "\n",
        "Principal / (1 + rate)^time "
      ],
      "metadata": {
        "id": "-sfEkKvCZd0z"
      }
    },
    {
      "cell_type": "code",
      "execution_count": null,
      "metadata": {
        "id": "_ooeQB87ZcmE"
      },
      "outputs": [],
      "source": [
        "principal = float(input(\"What is the future value you are expecting? \"))\n",
        "\n",
        "rate = float(input(\"What rate do you expect to earn yearly? \"))\n",
        "if (rate > 1):\n",
        "  rate /= 100\n",
        "\n",
        "time = int(input(\"How many years do you expect to hold this investment? \"))\n",
        "\n",
        "output = principal/(1 + rate)**time\n",
        "\n",
        "print(f\"The output value is ${output:.2f}\")\n"
      ]
    },
    {
      "cell_type": "markdown",
      "source": [
        "#**Future Value Calculator**\n",
        "\n",
        "This generator is suppose to calculate the **future value** of an investment. You need to input the *principal*,*rate*, and *time* to get your future total. This generator will also show how your investment will grow over the selected time frame. The calculations for the ***Future Value Calculator*** are:\n",
        "\n",
        "**Future Value Calculator**\n",
        "\n",
        "Principal*(1 + rate)^time"
      ],
      "metadata": {
        "id": "1_XSIBoZkYuC"
      }
    },
    {
      "cell_type": "code",
      "source": [
        "principal = float(input(\"What is the amount per month you will be investing? \"))\n",
        "principal *= 12\n",
        "\n",
        "rate = float(input(\"What rate do you expect to earn yearly? \"))\n",
        "if(rate > 1):\n",
        "  rate /= 100\n",
        "\n",
        "time = int(input(\"How many years do you expect to hold this investment? \"))\n",
        "\n",
        "for i in range(0,time+1,5):\n",
        "  FV = principal*(1 + rate)**i\n",
        "  print(f'{i} \\t${FV:.2f}')\n"
      ],
      "metadata": {
        "id": "hqzr5nJdkYRa"
      },
      "execution_count": null,
      "outputs": []
    }
  ]
}